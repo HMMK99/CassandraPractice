{
 "cells": [
  {
   "cell_type": "markdown",
   "metadata": {},
   "source": [
    "# Part I. ETL Pipeline for Pre-Processing the Files"
   ]
  },
  {
   "cell_type": "markdown",
   "metadata": {},
   "source": [
    "## PLEASE RUN THE FOLLOWING CODE FOR PRE-PROCESSING THE FILES"
   ]
  },
  {
   "cell_type": "markdown",
   "metadata": {},
   "source": [
    "#### Import Python packages "
   ]
  },
  {
   "cell_type": "code",
   "execution_count": 1,
   "metadata": {},
   "outputs": [],
   "source": [
    "# Import Python packages \n",
    "import pandas as pd\n",
    "import cassandra\n",
    "import re\n",
    "import os\n",
    "import glob\n",
    "import numpy as np\n",
    "import json\n",
    "import csv"
   ]
  },
  {
   "cell_type": "markdown",
   "metadata": {},
   "source": [
    "#### Creating list of filepaths to process original event csv data files"
   ]
  },
  {
   "cell_type": "code",
   "execution_count": 8,
   "metadata": {},
   "outputs": [
    {
     "name": "stdout",
     "output_type": "stream",
     "text": [
      "d:\\Users\\hatem.kamal\\Desktop\\DE udacity\\Test\\CassandraPractice\\project-1b-project-templateipynb\n"
     ]
    }
   ],
   "source": [
    "# checking your current working directory\n",
    "print(os.getcwd())\n",
    "\n",
    "# Get your current folder and subfolder event data\n",
    "filepath = os.getcwd() + '/data'\n",
    "\n",
    "# Create a for loop to create a list of files and collect each filepath\n",
    "for root, dirs, files in os.walk(filepath):\n",
    "    \n",
    "# join the file path and roots with the subdirectories using glob\n",
    "    file_path_list = glob.glob(os.path.join(root,'*'))\n",
    "    #print(file_path_list)"
   ]
  },
  {
   "cell_type": "code",
   "execution_count": 9,
   "metadata": {},
   "outputs": [
    {
     "data": {
      "text/plain": [
       "['d:\\\\Users\\\\hatem.kamal\\\\Desktop\\\\DE udacity\\\\Test\\\\CassandraPractice\\\\project-1b-project-templateipynb/data\\\\2018-11-01-events.csv',\n",
       " 'd:\\\\Users\\\\hatem.kamal\\\\Desktop\\\\DE udacity\\\\Test\\\\CassandraPractice\\\\project-1b-project-templateipynb/data\\\\2018-11-02-events.csv',\n",
       " 'd:\\\\Users\\\\hatem.kamal\\\\Desktop\\\\DE udacity\\\\Test\\\\CassandraPractice\\\\project-1b-project-templateipynb/data\\\\2018-11-03-events.csv',\n",
       " 'd:\\\\Users\\\\hatem.kamal\\\\Desktop\\\\DE udacity\\\\Test\\\\CassandraPractice\\\\project-1b-project-templateipynb/data\\\\2018-11-04-events.csv',\n",
       " 'd:\\\\Users\\\\hatem.kamal\\\\Desktop\\\\DE udacity\\\\Test\\\\CassandraPractice\\\\project-1b-project-templateipynb/data\\\\2018-11-05-events.csv',\n",
       " 'd:\\\\Users\\\\hatem.kamal\\\\Desktop\\\\DE udacity\\\\Test\\\\CassandraPractice\\\\project-1b-project-templateipynb/data\\\\2018-11-06-events.csv',\n",
       " 'd:\\\\Users\\\\hatem.kamal\\\\Desktop\\\\DE udacity\\\\Test\\\\CassandraPractice\\\\project-1b-project-templateipynb/data\\\\2018-11-07-events.csv',\n",
       " 'd:\\\\Users\\\\hatem.kamal\\\\Desktop\\\\DE udacity\\\\Test\\\\CassandraPractice\\\\project-1b-project-templateipynb/data\\\\2018-11-08-events.csv',\n",
       " 'd:\\\\Users\\\\hatem.kamal\\\\Desktop\\\\DE udacity\\\\Test\\\\CassandraPractice\\\\project-1b-project-templateipynb/data\\\\2018-11-09-events.csv',\n",
       " 'd:\\\\Users\\\\hatem.kamal\\\\Desktop\\\\DE udacity\\\\Test\\\\CassandraPractice\\\\project-1b-project-templateipynb/data\\\\2018-11-10-events.csv',\n",
       " 'd:\\\\Users\\\\hatem.kamal\\\\Desktop\\\\DE udacity\\\\Test\\\\CassandraPractice\\\\project-1b-project-templateipynb/data\\\\2018-11-11-events.csv',\n",
       " 'd:\\\\Users\\\\hatem.kamal\\\\Desktop\\\\DE udacity\\\\Test\\\\CassandraPractice\\\\project-1b-project-templateipynb/data\\\\2018-11-12-events.csv',\n",
       " 'd:\\\\Users\\\\hatem.kamal\\\\Desktop\\\\DE udacity\\\\Test\\\\CassandraPractice\\\\project-1b-project-templateipynb/data\\\\2018-11-13-events.csv',\n",
       " 'd:\\\\Users\\\\hatem.kamal\\\\Desktop\\\\DE udacity\\\\Test\\\\CassandraPractice\\\\project-1b-project-templateipynb/data\\\\2018-11-14-events.csv',\n",
       " 'd:\\\\Users\\\\hatem.kamal\\\\Desktop\\\\DE udacity\\\\Test\\\\CassandraPractice\\\\project-1b-project-templateipynb/data\\\\2018-11-15-events.csv',\n",
       " 'd:\\\\Users\\\\hatem.kamal\\\\Desktop\\\\DE udacity\\\\Test\\\\CassandraPractice\\\\project-1b-project-templateipynb/data\\\\2018-11-16-events.csv',\n",
       " 'd:\\\\Users\\\\hatem.kamal\\\\Desktop\\\\DE udacity\\\\Test\\\\CassandraPractice\\\\project-1b-project-templateipynb/data\\\\2018-11-17-events.csv',\n",
       " 'd:\\\\Users\\\\hatem.kamal\\\\Desktop\\\\DE udacity\\\\Test\\\\CassandraPractice\\\\project-1b-project-templateipynb/data\\\\2018-11-18-events.csv',\n",
       " 'd:\\\\Users\\\\hatem.kamal\\\\Desktop\\\\DE udacity\\\\Test\\\\CassandraPractice\\\\project-1b-project-templateipynb/data\\\\2018-11-19-events.csv',\n",
       " 'd:\\\\Users\\\\hatem.kamal\\\\Desktop\\\\DE udacity\\\\Test\\\\CassandraPractice\\\\project-1b-project-templateipynb/data\\\\2018-11-20-events.csv',\n",
       " 'd:\\\\Users\\\\hatem.kamal\\\\Desktop\\\\DE udacity\\\\Test\\\\CassandraPractice\\\\project-1b-project-templateipynb/data\\\\2018-11-21-events.csv',\n",
       " 'd:\\\\Users\\\\hatem.kamal\\\\Desktop\\\\DE udacity\\\\Test\\\\CassandraPractice\\\\project-1b-project-templateipynb/data\\\\2018-11-22-events.csv',\n",
       " 'd:\\\\Users\\\\hatem.kamal\\\\Desktop\\\\DE udacity\\\\Test\\\\CassandraPractice\\\\project-1b-project-templateipynb/data\\\\2018-11-23-events.csv',\n",
       " 'd:\\\\Users\\\\hatem.kamal\\\\Desktop\\\\DE udacity\\\\Test\\\\CassandraPractice\\\\project-1b-project-templateipynb/data\\\\2018-11-24-events.csv',\n",
       " 'd:\\\\Users\\\\hatem.kamal\\\\Desktop\\\\DE udacity\\\\Test\\\\CassandraPractice\\\\project-1b-project-templateipynb/data\\\\2018-11-25-events.csv',\n",
       " 'd:\\\\Users\\\\hatem.kamal\\\\Desktop\\\\DE udacity\\\\Test\\\\CassandraPractice\\\\project-1b-project-templateipynb/data\\\\2018-11-26-events.csv',\n",
       " 'd:\\\\Users\\\\hatem.kamal\\\\Desktop\\\\DE udacity\\\\Test\\\\CassandraPractice\\\\project-1b-project-templateipynb/data\\\\2018-11-27-events.csv',\n",
       " 'd:\\\\Users\\\\hatem.kamal\\\\Desktop\\\\DE udacity\\\\Test\\\\CassandraPractice\\\\project-1b-project-templateipynb/data\\\\2018-11-28-events.csv',\n",
       " 'd:\\\\Users\\\\hatem.kamal\\\\Desktop\\\\DE udacity\\\\Test\\\\CassandraPractice\\\\project-1b-project-templateipynb/data\\\\2018-11-29-events.csv',\n",
       " 'd:\\\\Users\\\\hatem.kamal\\\\Desktop\\\\DE udacity\\\\Test\\\\CassandraPractice\\\\project-1b-project-templateipynb/data\\\\2018-11-30-events.csv']"
      ]
     },
     "execution_count": 9,
     "metadata": {},
     "output_type": "execute_result"
    }
   ],
   "source": [
    "file_path_list"
   ]
  },
  {
   "cell_type": "markdown",
   "metadata": {},
   "source": [
    "#### Processing the files to create the data file csv that will be used for Apache Casssandra tables"
   ]
  },
  {
   "cell_type": "code",
   "execution_count": 10,
   "metadata": {},
   "outputs": [
    {
     "name": "stdout",
     "output_type": "stream",
     "text": [
      "8056\n"
     ]
    }
   ],
   "source": [
    "# initiating an empty list of rows that will be generated from each file\n",
    "full_data_rows_list = [] \n",
    "    \n",
    "# for every filepath in the file path list \n",
    "for f in file_path_list:\n",
    "\n",
    "# reading csv file \n",
    "    with open(f, 'r', encoding = 'utf8', newline='') as csvfile: \n",
    "        # creating a csv reader object \n",
    "        csvreader = csv.reader(csvfile) \n",
    "        next(csvreader)\n",
    "        \n",
    " # extracting each data row one by one and append it        \n",
    "        for line in csvreader:\n",
    "            #print(line)\n",
    "            full_data_rows_list.append(line) \n",
    "            \n",
    "# uncomment the code below if you would like to get total number of rows \n",
    "print(len(full_data_rows_list))\n",
    "# uncomment the code below if you would like to check to see what the list of event data rows will look like\n",
    "#print(full_data_rows_list)\n",
    "\n",
    "# creating a smaller event data csv file called event_datafile_full csv that will be used to insert data into the \\\n",
    "# Apache Cassandra tables\n",
    "csv.register_dialect('myDialect', quoting=csv.QUOTE_ALL, skipinitialspace=True)\n",
    "\n",
    "with open('event_datafile_new.csv', 'w', encoding = 'utf8', newline='') as f:\n",
    "    writer = csv.writer(f, dialect='myDialect')\n",
    "    writer.writerow(['artist','firstName','gender','itemInSession','lastName','length',\\\n",
    "                'level','location','sessionId','song','userId'])\n",
    "    for row in full_data_rows_list:\n",
    "        if (row[0] == ''):\n",
    "            continue\n",
    "        writer.writerow((row[0], row[2], row[3], row[4], row[5], row[6], row[7], row[8], row[12], row[13], row[16]))\n"
   ]
  },
  {
   "cell_type": "code",
   "execution_count": 11,
   "metadata": {},
   "outputs": [
    {
     "name": "stdout",
     "output_type": "stream",
     "text": [
      "6821\n"
     ]
    }
   ],
   "source": [
    "# check the number of rows in your csv file\n",
    "with open('event_datafile_new.csv', 'r', encoding = 'utf8') as f:\n",
    "    print(sum(1 for line in f))"
   ]
  },
  {
   "cell_type": "markdown",
   "metadata": {},
   "source": [
    "# Part II. Complete the Apache Cassandra coding portion of your project. \n",
    "\n",
    "## Now you are ready to work with the CSV file titled <font color=red>event_datafile_new.csv</font>, located within the Workspace directory.  The event_datafile_new.csv contains the following columns: \n",
    "- artist \n",
    "- firstName of user\n",
    "- gender of user\n",
    "- item number in session\n",
    "- last name of user\n",
    "- length of the song\n",
    "- level (paid or free song)\n",
    "- location of the user\n",
    "- sessionId\n",
    "- song title\n",
    "- userId\n",
    "\n",
    "The image below is a screenshot of what the denormalized data should appear like in the <font color=red>**event_datafile_new.csv**</font> after the code above is run:<br>\n",
    "\n",
    "<img src=\"images/image_event_datafile_new.jpg\">"
   ]
  },
  {
   "cell_type": "markdown",
   "metadata": {},
   "source": [
    "## Begin writing your Apache Cassandra code in the cells below"
   ]
  },
  {
   "cell_type": "markdown",
   "metadata": {},
   "source": [
    "#### Creating a Cluster"
   ]
  },
  {
   "cell_type": "code",
   "execution_count": 13,
   "metadata": {},
   "outputs": [],
   "source": [
    "import pandas as pd\n",
    "\n",
    "import os\n",
    "from dotenv import load_dotenv\n",
    "# import pathlib\n",
    "\n",
    "from os.path import join, dirname\n",
    "\n",
    "path = 'D:\\\\Users\\\\hatem.kamal\\\\Desktop\\\\DE udacity\\\\Test\\\\CassandraPractice\\\\'\n",
    "dotenv_path = join(path, '.env')\n",
    "\n",
    "load_dotenv(dotenv_path)\n",
    "\n",
    "CR_Token = os.getenv(f'CR_Token')\n",
    "adm_token = os.getenv(f'ADM_TOKEN')\n",
    "ASTRA_DB_SECURE_BUNDLE_PATH = os.getenv(f'ASTRA_DB_SECURE_BUNDLE_PATH')\n",
    "DB_ID = os.getenv(f'DB_ID')\n",
    "\n",
    "from cassandra.cluster import Cluster\n",
    "from cassandra.auth import PlainTextAuthProvider\n",
    "import json\n",
    "\n",
    "# with open(ASTRA_TOKEN_PATH, \"r\") as f:\n",
    "#     creds = json.load(f)\n",
    "    # ASTRA_DB_APPLICATION_TOKEN = creds[\"token\"]\n",
    "\n",
    "ASTRA_DB_APPLICATION_TOKEN = adm_token\n",
    "try: \n",
    "    cluster = Cluster(\n",
    "        cloud={\n",
    "            \"secure_connect_bundle\": ASTRA_DB_SECURE_BUNDLE_PATH,\n",
    "        },\n",
    "        auth_provider=PlainTextAuthProvider(\n",
    "            \"token\",\n",
    "            ASTRA_DB_APPLICATION_TOKEN,\n",
    "        ),\n",
    "    )\n",
    "\n",
    "    session = cluster.connect()\n",
    "\n",
    "\n",
    "    session = cluster.connect()\n",
    "except Exception as e:\n",
    "    print(e)"
   ]
  },
  {
   "cell_type": "code",
   "execution_count": null,
   "metadata": {},
   "outputs": [],
   "source": [
    "# # This should make a connection to a Cassandra instance your local machine \n",
    "# # (127.0.0.1)\n",
    "\n",
    "# from cassandra.cluster import Cluster\n",
    "# cluster = Cluster()\n",
    "\n",
    "# # To establish connection and begin executing queries, need a session\n",
    "# session = cluster.connect()"
   ]
  },
  {
   "cell_type": "markdown",
   "metadata": {},
   "source": [
    "#### Create Keyspace"
   ]
  },
  {
   "cell_type": "code",
   "execution_count": null,
   "metadata": {},
   "outputs": [],
   "source": [
    "# TO-DO: Create a Keyspace \n",
    "# created on portal"
   ]
  },
  {
   "cell_type": "markdown",
   "metadata": {},
   "source": [
    "#### Set Keyspace"
   ]
  },
  {
   "cell_type": "code",
   "execution_count": 14,
   "metadata": {},
   "outputs": [],
   "source": [
    "# TO-DO: Set KEYSPACE to the keyspace specified above\n",
    "try:\n",
    "    session.set_keyspace('project_keyspace')\n",
    "except Exception as e:\n",
    "    print(e)"
   ]
  },
  {
   "cell_type": "code",
   "execution_count": 15,
   "metadata": {},
   "outputs": [
    {
     "data": {
      "text/html": [
       "<div>\n",
       "<style scoped>\n",
       "    .dataframe tbody tr th:only-of-type {\n",
       "        vertical-align: middle;\n",
       "    }\n",
       "\n",
       "    .dataframe tbody tr th {\n",
       "        vertical-align: top;\n",
       "    }\n",
       "\n",
       "    .dataframe thead th {\n",
       "        text-align: right;\n",
       "    }\n",
       "</style>\n",
       "<table border=\"1\" class=\"dataframe\">\n",
       "  <thead>\n",
       "    <tr style=\"text-align: right;\">\n",
       "      <th></th>\n",
       "      <th>artist</th>\n",
       "      <th>firstName</th>\n",
       "      <th>gender</th>\n",
       "      <th>itemInSession</th>\n",
       "      <th>lastName</th>\n",
       "      <th>length</th>\n",
       "      <th>level</th>\n",
       "      <th>location</th>\n",
       "      <th>sessionId</th>\n",
       "      <th>song</th>\n",
       "      <th>userId</th>\n",
       "    </tr>\n",
       "  </thead>\n",
       "  <tbody>\n",
       "    <tr>\n",
       "      <th>0</th>\n",
       "      <td>Des'ree</td>\n",
       "      <td>Kaylee</td>\n",
       "      <td>F</td>\n",
       "      <td>1</td>\n",
       "      <td>Summers</td>\n",
       "      <td>246.30812</td>\n",
       "      <td>free</td>\n",
       "      <td>Phoenix-Mesa-Scottsdale, AZ</td>\n",
       "      <td>139</td>\n",
       "      <td>You Gotta Be</td>\n",
       "      <td>8</td>\n",
       "    </tr>\n",
       "    <tr>\n",
       "      <th>1</th>\n",
       "      <td>Mr Oizo</td>\n",
       "      <td>Kaylee</td>\n",
       "      <td>F</td>\n",
       "      <td>3</td>\n",
       "      <td>Summers</td>\n",
       "      <td>144.03873</td>\n",
       "      <td>free</td>\n",
       "      <td>Phoenix-Mesa-Scottsdale, AZ</td>\n",
       "      <td>139</td>\n",
       "      <td>Flat 55</td>\n",
       "      <td>8</td>\n",
       "    </tr>\n",
       "    <tr>\n",
       "      <th>2</th>\n",
       "      <td>Tamba Trio</td>\n",
       "      <td>Kaylee</td>\n",
       "      <td>F</td>\n",
       "      <td>4</td>\n",
       "      <td>Summers</td>\n",
       "      <td>177.18812</td>\n",
       "      <td>free</td>\n",
       "      <td>Phoenix-Mesa-Scottsdale, AZ</td>\n",
       "      <td>139</td>\n",
       "      <td>Quem Quiser Encontrar O Amor</td>\n",
       "      <td>8</td>\n",
       "    </tr>\n",
       "    <tr>\n",
       "      <th>3</th>\n",
       "      <td>The Mars Volta</td>\n",
       "      <td>Kaylee</td>\n",
       "      <td>F</td>\n",
       "      <td>5</td>\n",
       "      <td>Summers</td>\n",
       "      <td>380.42077</td>\n",
       "      <td>free</td>\n",
       "      <td>Phoenix-Mesa-Scottsdale, AZ</td>\n",
       "      <td>139</td>\n",
       "      <td>Eriatarka</td>\n",
       "      <td>8</td>\n",
       "    </tr>\n",
       "    <tr>\n",
       "      <th>4</th>\n",
       "      <td>Infected Mushroom</td>\n",
       "      <td>Kaylee</td>\n",
       "      <td>F</td>\n",
       "      <td>6</td>\n",
       "      <td>Summers</td>\n",
       "      <td>440.26730</td>\n",
       "      <td>free</td>\n",
       "      <td>Phoenix-Mesa-Scottsdale, AZ</td>\n",
       "      <td>139</td>\n",
       "      <td>Becoming Insane</td>\n",
       "      <td>8</td>\n",
       "    </tr>\n",
       "  </tbody>\n",
       "</table>\n",
       "</div>"
      ],
      "text/plain": [
       "              artist firstName gender  itemInSession lastName     length  \\\n",
       "0            Des'ree    Kaylee      F              1  Summers  246.30812   \n",
       "1            Mr Oizo    Kaylee      F              3  Summers  144.03873   \n",
       "2         Tamba Trio    Kaylee      F              4  Summers  177.18812   \n",
       "3     The Mars Volta    Kaylee      F              5  Summers  380.42077   \n",
       "4  Infected Mushroom    Kaylee      F              6  Summers  440.26730   \n",
       "\n",
       "  level                     location  sessionId                          song  \\\n",
       "0  free  Phoenix-Mesa-Scottsdale, AZ        139                  You Gotta Be   \n",
       "1  free  Phoenix-Mesa-Scottsdale, AZ        139                       Flat 55   \n",
       "2  free  Phoenix-Mesa-Scottsdale, AZ        139  Quem Quiser Encontrar O Amor   \n",
       "3  free  Phoenix-Mesa-Scottsdale, AZ        139                     Eriatarka   \n",
       "4  free  Phoenix-Mesa-Scottsdale, AZ        139               Becoming Insane   \n",
       "\n",
       "   userId  \n",
       "0       8  \n",
       "1       8  \n",
       "2       8  \n",
       "3       8  \n",
       "4       8  "
      ]
     },
     "execution_count": 15,
     "metadata": {},
     "output_type": "execute_result"
    }
   ],
   "source": [
    "df = pd.read_csv('event_datafile_new.csv')\n",
    "df.head()"
   ]
  },
  {
   "cell_type": "markdown",
   "metadata": {},
   "source": [
    "### Now we need to create tables to run the following queries. Remember, with Apache Cassandra you model the database tables on the queries you want to run."
   ]
  },
  {
   "cell_type": "markdown",
   "metadata": {},
   "source": [
    "## Create queries to ask the following three questions of the data\n",
    "\n",
    "### 1. Give me the artist, song title and song's length in the music app history that was heard during  sessionId = 338, and itemInSession  = 4\n",
    "\n",
    "\n",
    "### 2. Give me only the following: name of artist, song (sorted by itemInSession) and user (first and last name) for userid = 10, sessionid = 182\n",
    "    \n",
    "\n",
    "### 3. Give me every user name (first and last) in my music app history who listened to the song 'All Hands Against His Own'\n",
    "\n",
    "\n"
   ]
  },
  {
   "cell_type": "code",
   "execution_count": 16,
   "metadata": {},
   "outputs": [
    {
     "data": {
      "text/plain": [
       "Index(['artist', 'firstName', 'gender', 'itemInSession', 'lastName', 'length',\n",
       "       'level', 'location', 'sessionId', 'song', 'userId'],\n",
       "      dtype='object')"
      ]
     },
     "execution_count": 16,
     "metadata": {},
     "output_type": "execute_result"
    }
   ],
   "source": [
    "df.columns # artist, song title, song lenght based on sessionId, itemInSession\n",
    "            # artist, song \"sorted by itemInSession\" , 1st and last name based on userId and sessionID\n",
    "            # 1st and last name based on songListened"
   ]
  },
  {
   "cell_type": "code",
   "execution_count": 20,
   "metadata": {},
   "outputs": [],
   "source": [
    "## TO-DO: Query 1:  Give me the artist, song title and song's length in the music app history that was heard during \\\n",
    "## sessionId = 338, and itemInSession = 4\n",
    "create_query = 'CREATE TABLE IF NOT EXISTS '\n",
    "query = create_query + \"music_library (artist varchar, song varchar, length FLOAT, sessionId INT, itemInSession INT, PRIMARY KEY (sessionId, itemInSession))\"\n",
    "\n",
    "try:\n",
    "    session.execute(query)\n",
    "except Exception as e:\n",
    "    print(e)    "
   ]
  },
  {
   "cell_type": "code",
   "execution_count": 28,
   "metadata": {},
   "outputs": [],
   "source": [
    "from tqdm.auto import tqdm\n"
   ]
  },
  {
   "cell_type": "code",
   "execution_count": 27,
   "metadata": {
    "scrolled": false
   },
   "outputs": [],
   "source": [
    "# We have provided part of the code to set up the CSV file. Please complete the Apache Cassandra code below#\n",
    "file = 'event_datafile_new.csv'\n",
    "\n",
    "with open(file, encoding = 'utf8') as f:\n",
    "    csvreader = csv.reader(f)\n",
    "    next(csvreader) # skip header\n",
    "    for line in tqdm(csvreader):\n",
    "## TO-DO: Assign the INSERT statements into the `query` variable\n",
    "        query = \"INSERT INTO music_library (artist, song, length, sessionId, itemInSession)\"\n",
    "        query = query + \" VALUES (%s, %s, %s, %s, %s)\"\n",
    "        # print((line[0], line[-2], float(line[5]), line[-3], line[3]))\n",
    "        ## TO-DO: Assign which column element should be assigned for each column in the INSERT statement.\n",
    "        ## For e.g., to INSERT artist_name and user first_name, you would change the code below to `line[0], line[1]`\n",
    "        session.execute(query, (line[0], line[-2], float(line[5]), int(line[-3]), int(line[3])))"
   ]
  },
  {
   "cell_type": "markdown",
   "metadata": {},
   "source": [
    "#### Do a SELECT to verify that the data have been inserted into each table"
   ]
  },
  {
   "cell_type": "code",
   "execution_count": 41,
   "metadata": {
    "scrolled": true
   },
   "outputs": [],
   "source": [
    "## TO-DO: Add in the SELECT statement to verify the data was entered into the table\n",
    "query = 'SELECT artist, song, length FROM music_library where sessionId = 338 AND itemInSession = 4'\n",
    "try:\n",
    "    data = session.execute(query)\n",
    "except Exception as e:\n",
    "    print(e)    "
   ]
  },
  {
   "cell_type": "code",
   "execution_count": 42,
   "metadata": {},
   "outputs": [
    {
     "name": "stdout",
     "output_type": "stream",
     "text": [
      "Faithless\n"
     ]
    }
   ],
   "source": [
    "for d in data:\n",
    "    print(d.artist)"
   ]
  },
  {
   "cell_type": "markdown",
   "metadata": {},
   "source": [
    "### COPY AND REPEAT THE ABOVE THREE CELLS FOR EACH OF THE THREE QUESTIONS"
   ]
  },
  {
   "cell_type": "code",
   "execution_count": 43,
   "metadata": {},
   "outputs": [],
   "source": [
    "\n",
    "# Index(['artist', 'firstName', 'gender', 'itemInSession', 'lastName', 'length',\n",
    "#        'level', 'location', 'sessionId', 'song', 'userId'],\n",
    "#       dtype='object')\n",
    "\n",
    "create_query = 'CREATE TABLE IF NOT EXISTS '\n",
    "query = create_query + \"music_library_user (artist varchar, song varchar, firstName varchar, lastName varchar, userId INT, sessionId INT, itemInSession INT, PRIMARY KEY (userId, sessionId))\"\n",
    "\n",
    "try:\n",
    "    session.execute(query)\n",
    "except Exception as e:\n",
    "    print(e)    "
   ]
  },
  {
   "cell_type": "code",
   "execution_count": 52,
   "metadata": {},
   "outputs": [
    {
     "data": {
      "application/vnd.jupyter.widget-view+json": {
       "model_id": "bd611ae88222454cbbd1eae77fc9e526",
       "version_major": 2,
       "version_minor": 0
      },
      "text/plain": [
       "0it [00:00, ?it/s]"
      ]
     },
     "metadata": {},
     "output_type": "display_data"
    }
   ],
   "source": [
    "## TO-DO: Query 2: Give me only the following: name of artist, song (sorted by itemInSession) and user (first and last name)\\\n",
    "## for userid = 10, sessionid = 182\n",
    "\n",
    "\n",
    "x = 0\n",
    "\n",
    "with open(file, encoding = 'utf8') as f:\n",
    "    csvreader = csv.reader(f)\n",
    "    next(csvreader) # skip header\n",
    "    for line in tqdm(csvreader):\n",
    "        if x == 1000:\n",
    "            break\n",
    "        x += 1\n",
    "## TO-DO: Assign the INSERT statements into the `query` variable\n",
    "        query = \"INSERT INTO music_library_user (artist, song, firstName, lastName, userId, sessionId, itemInSession)\"\n",
    "        query = query + \" VALUES (%s, %s, %s, %s, %s, %s, %s)\"\n",
    "        # print((line[0], line[-2], float(line[5]), line[-3], line[3]))\n",
    "        ## TO-DO: Assign which column element should be assigned for each column in the INSERT statement.\n",
    "        ## For e.g., to INSERT artist_name and user first_name, you would change the code below to `line[0], line[1]`\n",
    "        # print(line[0], line[-2], line[1], line[4], int(line[-1]), int(line[-3]), int(line[3]))\n",
    "        session.execute(query, (line[0], line[-2], line[1], line[4], int(line[-1]), int(line[-3]), int(line[3])))\n",
    "\n"
   ]
  },
  {
   "cell_type": "code",
   "execution_count": 56,
   "metadata": {},
   "outputs": [
    {
     "name": "stdout",
     "output_type": "stream",
     "text": [
      "Row(userid=10, sessionid=182, artist='Lonnie Gordon', firstname='Sylvie', iteminsession=3, lastname='Cruz', song='Catch You Baby (Steve Pitron & Max Sanna Radio Edit)')\n"
     ]
    }
   ],
   "source": [
    "query = 'SELECT * FROM music_library_user where userid = 10 AND sessionid = 182'\n",
    "try:\n",
    "    data = session.execute(query)\n",
    "except Exception as e:\n",
    "    print(e)   \n",
    "for d in data:\n",
    "    print(d)"
   ]
  },
  {
   "cell_type": "code",
   "execution_count": 57,
   "metadata": {},
   "outputs": [
    {
     "data": {
      "application/vnd.jupyter.widget-view+json": {
       "model_id": "768bebd2547045658eb607046874aaf5",
       "version_major": 2,
       "version_minor": 0
      },
      "text/plain": [
       "0it [00:00, ?it/s]"
      ]
     },
     "metadata": {},
     "output_type": "display_data"
    }
   ],
   "source": [
    "## TO-DO: Query 3: Give me every user name (first and last) in my music app history who listened to the song 'All Hands Against His Own'\n",
    "\n",
    "create_query = 'CREATE TABLE IF NOT EXISTS '\n",
    "query = create_query + \"music_library_user_name (firstName varchar, lastName varchar, song varchar, PRIMARY KEY (song, firstName, lastName))\"\n",
    "\n",
    "try:\n",
    "    session.execute(query)\n",
    "except Exception as e:\n",
    "    print(e)    \n",
    "\n",
    "x = 0\n",
    "\n",
    "with open(file, encoding = 'utf8') as f:\n",
    "    csvreader = csv.reader(f)\n",
    "    next(csvreader) # skip header\n",
    "    for line in tqdm(csvreader):\n",
    "        if x == 1000:\n",
    "            break\n",
    "        x += 1\n",
    "## TO-DO: Assign the INSERT statements into the `query` variable\n",
    "        query = \"INSERT INTO music_library_user_name (firstName, lastName, song)\"\n",
    "        query = query + \" VALUES (%s, %s, %s)\"\n",
    "        # print((line[0], line[-2], float(line[5]), line[-3], line[3]))\n",
    "        ## TO-DO: Assign which column element should be assigned for each column in the INSERT statement.\n",
    "        ## For e.g., to INSERT artist_name and user first_name, you would change the code below to `line[0], line[1]`\n",
    "        session.execute(query, (line[1], line[4], line[-2]))\n",
    "\n",
    "                    "
   ]
  },
  {
   "cell_type": "code",
   "execution_count": 58,
   "metadata": {},
   "outputs": [
    {
     "name": "stdout",
     "output_type": "stream",
     "text": [
      "Row(song='All Hands Against His Own', firstname='Sara', lastname='Johnson')\n"
     ]
    }
   ],
   "source": [
    "\n",
    "\n",
    "query = \"SELECT * FROM music_library_user_name where song = 'All Hands Against His Own'\"\n",
    "try:\n",
    "    data = session.execute(query)\n",
    "except Exception as e:\n",
    "    print(e)   \n",
    "for d in data:\n",
    "    print(d)"
   ]
  },
  {
   "cell_type": "code",
   "execution_count": null,
   "metadata": {},
   "outputs": [],
   "source": []
  },
  {
   "cell_type": "markdown",
   "metadata": {},
   "source": [
    "### Drop the tables before closing out the sessions"
   ]
  },
  {
   "cell_type": "code",
   "execution_count": 59,
   "metadata": {},
   "outputs": [],
   "source": [
    "query = \"DROP TABLE IF EXISTS music_library_user_name\"\n",
    "try:\n",
    "    data = session.execute(query)\n",
    "except Exception as e:\n",
    "    print(e)   \n",
    "for d in data:\n",
    "    print(d)\n",
    "\n",
    "query = \"DROP TABLE IF EXISTS music_library_user\"\n",
    "try:\n",
    "    data = session.execute(query)\n",
    "except Exception as e:\n",
    "    print(e)   \n",
    "for d in data:\n",
    "    print(d)\n",
    "\n",
    "query = \"DROP TABLE IF EXISTS music_library\"\n",
    "try:\n",
    "    data = session.execute(query)\n",
    "except Exception as e:\n",
    "    print(e)   \n",
    "for d in data:\n",
    "    print(d)"
   ]
  },
  {
   "cell_type": "markdown",
   "metadata": {},
   "source": [
    "### Close the session and cluster connection¶"
   ]
  },
  {
   "cell_type": "code",
   "execution_count": 60,
   "metadata": {},
   "outputs": [],
   "source": [
    "session.shutdown()\n",
    "cluster.shutdown()"
   ]
  },
  {
   "cell_type": "code",
   "execution_count": null,
   "metadata": {},
   "outputs": [],
   "source": []
  },
  {
   "cell_type": "code",
   "execution_count": null,
   "metadata": {},
   "outputs": [],
   "source": []
  }
 ],
 "metadata": {
  "kernelspec": {
   "display_name": "Python 3",
   "language": "python",
   "name": "python3"
  },
  "language_info": {
   "codemirror_mode": {
    "name": "ipython",
    "version": 3
   },
   "file_extension": ".py",
   "mimetype": "text/x-python",
   "name": "python",
   "nbconvert_exporter": "python",
   "pygments_lexer": "ipython3",
   "version": "3.11.4"
  }
 },
 "nbformat": 4,
 "nbformat_minor": 2
}
